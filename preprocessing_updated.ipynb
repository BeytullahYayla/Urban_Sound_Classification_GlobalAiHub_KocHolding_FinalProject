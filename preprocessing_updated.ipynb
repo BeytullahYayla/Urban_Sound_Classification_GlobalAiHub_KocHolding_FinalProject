{
 "cells": [
  {
   "cell_type": "markdown",
   "metadata": {},
   "source": [
    "## Import Required Libraries"
   ]
  },
  {
   "cell_type": "code",
   "execution_count": 32,
   "metadata": {},
   "outputs": [],
   "source": [
    "import numpy as np\n",
    "import pandas as pd\n",
    "\n",
    "import librosa\n",
    "import cv2\n",
    "\n",
    "import matplotlib.pyplot as plt\n",
    "from matplotlib.backends.backend_agg import FigureCanvasAgg as FigureCanvas\n",
    "\n",
    "import os\n",
    "\n",
    "from tqdm import tqdm\n",
    "\n",
    "from constants import *"
   ]
  },
  {
   "cell_type": "markdown",
   "metadata": {},
   "source": [
    "## Data Inspection"
   ]
  },
  {
   "cell_type": "code",
   "execution_count": 2,
   "metadata": {},
   "outputs": [],
   "source": [
    "df=pd.read_csv(ROOT_PATH_SOUND_DATASET_CSV)"
   ]
  },
  {
   "cell_type": "code",
   "execution_count": 3,
   "metadata": {},
   "outputs": [
    {
     "data": {
      "text/html": [
       "<div>\n",
       "<style scoped>\n",
       "    .dataframe tbody tr th:only-of-type {\n",
       "        vertical-align: middle;\n",
       "    }\n",
       "\n",
       "    .dataframe tbody tr th {\n",
       "        vertical-align: top;\n",
       "    }\n",
       "\n",
       "    .dataframe thead th {\n",
       "        text-align: right;\n",
       "    }\n",
       "</style>\n",
       "<table border=\"1\" class=\"dataframe\">\n",
       "  <thead>\n",
       "    <tr style=\"text-align: right;\">\n",
       "      <th></th>\n",
       "      <th>slice_file_name</th>\n",
       "      <th>fsID</th>\n",
       "      <th>start</th>\n",
       "      <th>end</th>\n",
       "      <th>salience</th>\n",
       "      <th>fold</th>\n",
       "      <th>classID</th>\n",
       "      <th>class</th>\n",
       "    </tr>\n",
       "  </thead>\n",
       "  <tbody>\n",
       "    <tr>\n",
       "      <th>0</th>\n",
       "      <td>100032-3-0-0.wav</td>\n",
       "      <td>100032</td>\n",
       "      <td>0.0</td>\n",
       "      <td>0.317551</td>\n",
       "      <td>1</td>\n",
       "      <td>5</td>\n",
       "      <td>3</td>\n",
       "      <td>dog_bark</td>\n",
       "    </tr>\n",
       "    <tr>\n",
       "      <th>1</th>\n",
       "      <td>100263-2-0-117.wav</td>\n",
       "      <td>100263</td>\n",
       "      <td>58.5</td>\n",
       "      <td>62.500000</td>\n",
       "      <td>1</td>\n",
       "      <td>5</td>\n",
       "      <td>2</td>\n",
       "      <td>children_playing</td>\n",
       "    </tr>\n",
       "    <tr>\n",
       "      <th>2</th>\n",
       "      <td>100263-2-0-121.wav</td>\n",
       "      <td>100263</td>\n",
       "      <td>60.5</td>\n",
       "      <td>64.500000</td>\n",
       "      <td>1</td>\n",
       "      <td>5</td>\n",
       "      <td>2</td>\n",
       "      <td>children_playing</td>\n",
       "    </tr>\n",
       "    <tr>\n",
       "      <th>3</th>\n",
       "      <td>100263-2-0-126.wav</td>\n",
       "      <td>100263</td>\n",
       "      <td>63.0</td>\n",
       "      <td>67.000000</td>\n",
       "      <td>1</td>\n",
       "      <td>5</td>\n",
       "      <td>2</td>\n",
       "      <td>children_playing</td>\n",
       "    </tr>\n",
       "    <tr>\n",
       "      <th>4</th>\n",
       "      <td>100263-2-0-137.wav</td>\n",
       "      <td>100263</td>\n",
       "      <td>68.5</td>\n",
       "      <td>72.500000</td>\n",
       "      <td>1</td>\n",
       "      <td>5</td>\n",
       "      <td>2</td>\n",
       "      <td>children_playing</td>\n",
       "    </tr>\n",
       "  </tbody>\n",
       "</table>\n",
       "</div>"
      ],
      "text/plain": [
       "      slice_file_name    fsID  start        end  salience  fold  classID  \\\n",
       "0    100032-3-0-0.wav  100032    0.0   0.317551         1     5        3   \n",
       "1  100263-2-0-117.wav  100263   58.5  62.500000         1     5        2   \n",
       "2  100263-2-0-121.wav  100263   60.5  64.500000         1     5        2   \n",
       "3  100263-2-0-126.wav  100263   63.0  67.000000         1     5        2   \n",
       "4  100263-2-0-137.wav  100263   68.5  72.500000         1     5        2   \n",
       "\n",
       "              class  \n",
       "0          dog_bark  \n",
       "1  children_playing  \n",
       "2  children_playing  \n",
       "3  children_playing  \n",
       "4  children_playing  "
      ]
     },
     "execution_count": 3,
     "metadata": {},
     "output_type": "execute_result"
    }
   ],
   "source": [
    "df.head()"
   ]
  },
  {
   "cell_type": "code",
   "execution_count": 4,
   "metadata": {},
   "outputs": [
    {
     "name": "stdout",
     "output_type": "stream",
     "text": [
      "The shape of the dataframe : (8732, 8)\n"
     ]
    }
   ],
   "source": [
    "print(f\"The shape of the dataframe : {df.shape}\")"
   ]
  },
  {
   "cell_type": "code",
   "execution_count": 5,
   "metadata": {},
   "outputs": [
    {
     "data": {
      "text/plain": [
       "'100032-3-0-0.wav'"
      ]
     },
     "execution_count": 5,
     "metadata": {},
     "output_type": "execute_result"
    }
   ],
   "source": [
    "df.iloc[0][\"slice_file_name\"]"
   ]
  },
  {
   "cell_type": "code",
   "execution_count": 6,
   "metadata": {},
   "outputs": [],
   "source": [
    "def create_random_example_data_path():\n",
    "    random_idx=np.random.randint(0,df.shape[0])\n",
    "    example_sound_path=ROOT_PATH_SOUND_DATASET+\"fold\"+str(df.iloc[random_idx][\"fold\"])+\"\\\\\"+df.iloc[random_idx][\"slice_file_name\"]\n",
    "    clsId=df.iloc[random_idx][\"classID\"]\n",
    "    return example_sound_path , clsId"
   ]
  },
  {
   "cell_type": "code",
   "execution_count": 7,
   "metadata": {},
   "outputs": [],
   "source": [
    "def create_by_specific_index_example_data_path(index:int):\n",
    "    example_sound_path=ROOT_PATH_SOUND_DATASET+\"fold\"+str(df.iloc[index][\"fold\"])+\"\\\\\"+df.iloc[index][\"slice_file_name\"]\n",
    "    clsId=df.iloc[index][\"classID\"]\n",
    "    return example_sound_path , clsId\n",
    "    "
   ]
  },
  {
   "cell_type": "code",
   "execution_count": 8,
   "metadata": {},
   "outputs": [
    {
     "data": {
      "text/plain": [
       "('C:\\\\Users\\\\MSI\\\\Desktop\\\\urban_sound_dataset\\\\UrbanSound8K\\\\audio\\\\fold9\\\\94182-9-0-9.wav',\n",
       " 9)"
      ]
     },
     "execution_count": 8,
     "metadata": {},
     "output_type": "execute_result"
    }
   ],
   "source": [
    "create_random_example_data_path()"
   ]
  },
  {
   "cell_type": "code",
   "execution_count": 9,
   "metadata": {},
   "outputs": [
    {
     "data": {
      "text/plain": [
       "('C:\\\\Users\\\\MSI\\\\Desktop\\\\urban_sound_dataset\\\\UrbanSound8K\\\\audio\\\\fold5\\\\100263-2-0-143.wav',\n",
       " 2)"
      ]
     },
     "execution_count": 9,
     "metadata": {},
     "output_type": "execute_result"
    }
   ],
   "source": [
    "create_by_specific_index_example_data_path(5)"
   ]
  },
  {
   "cell_type": "code",
   "execution_count": 10,
   "metadata": {},
   "outputs": [
    {
     "data": {
      "text/plain": [
       "array([3, 2, 1, 0, 9, 6, 8, 5, 7, 4], dtype=int64)"
      ]
     },
     "execution_count": 10,
     "metadata": {},
     "output_type": "execute_result"
    }
   ],
   "source": [
    "df[\"classID\"].unique()"
   ]
  },
  {
   "cell_type": "code",
   "execution_count": 11,
   "metadata": {},
   "outputs": [
    {
     "data": {
      "text/plain": [
       "array(['dog_bark', 'children_playing', 'car_horn', 'air_conditioner',\n",
       "       'street_music', 'gun_shot', 'siren', 'engine_idling', 'jackhammer',\n",
       "       'drilling'], dtype=object)"
      ]
     },
     "execution_count": 11,
     "metadata": {},
     "output_type": "execute_result"
    }
   ],
   "source": [
    "df[\"class\"].unique()"
   ]
  },
  {
   "cell_type": "code",
   "execution_count": 12,
   "metadata": {},
   "outputs": [],
   "source": [
    "id2cls={\n",
    "    0:\"air_conditioner\",\n",
    "    1:\"car_horn\",\n",
    "    2:\"children_playing\",\n",
    "    3:\"dog_bark\",\n",
    "    4:\"drilling\",\n",
    "    5:\"engine_idling\",\n",
    "    6:\"gun_shot\",\n",
    "    7:\"jackhammer\",\n",
    "    8:\"siren\",\n",
    "    9:\"street_music\"\n",
    "}"
   ]
  },
  {
   "cell_type": "markdown",
   "metadata": {},
   "source": [
    "### Visualization of Sound Waves"
   ]
  },
  {
   "cell_type": "code",
   "execution_count": 13,
   "metadata": {},
   "outputs": [],
   "source": [
    "def visualize_sounds(sound_path:str, clsId:int):\n",
    "    \"\"\"This function provides to visualize wave visualization from given sound_path and class id parameters.\n",
    "\n",
    "    Args:\n",
    "        sound_path (str): Specific sound path to visualize\n",
    "        clsId (int): Class id\n",
    "    \"\"\"\n",
    "    x,sr=librosa.load(sound_path)\n",
    "    fig,axs=plt.subplots(nrows=1,ncols=1,sharex=True)\n",
    "    librosa.display.waveshow(x, sr=sr,ax=axs)\n",
    "    axs.set_title(f\"Example audio wave visualization of class: {id2cls[clsId]}\")\n",
    "    "
   ]
  },
  {
   "cell_type": "code",
   "execution_count": 16,
   "metadata": {},
   "outputs": [
    {
     "data": {
      "image/png": "[encoded data removed]",
      "text/plain": [
       "<Figure size 640x480 with 1 Axes>"
      ]
     },
     "metadata": {},
     "output_type": "display_data"
    }
   ],
   "source": [
    "random_path, random_clsId=create_random_example_data_path()\n",
    "visualize_sounds(random_path,random_clsId)"
   ]
  },
  {
   "cell_type": "markdown",
   "metadata": {},
   "source": [
    "### Create Spectogram"
   ]
  },
  {
   "cell_type": "code",
   "execution_count": 17,
   "metadata": {},
   "outputs": [],
   "source": [
    "def create_spectrogram(y):\n",
    "    spec=librosa.feature.melspectrogram(y=y)\n",
    "    spec_conv=librosa.amplitude_to_db(spec, ref=np.max)\n",
    "    return spec_conv"
   ]
  },
  {
   "cell_type": "markdown",
   "metadata": {},
   "source": [
    "### Save Sound Wave Images "
   ]
  },
  {
   "cell_type": "code",
   "execution_count": 218,
   "metadata": {},
   "outputs": [],
   "source": [
    "def save_sound_wave(sound_path):\n",
    "    x,sr=librosa.load(sound_path)\n",
    "    converted_audio=create_spectrogram(x)\n",
    "    fig=plt.Figure()\n",
    "    canvas=FigureCanvas(fig)\n",
    "    plt.margins(0,0)\n",
    "    ax=fig.add_subplot(111)\n",
    "    p = librosa.display.specshow(converted_audio, ax=ax, sr=sr)\n",
    "    \n",
    "    output_dir = \"C:\\\\Users\\\\MSI\\\\Documents\\\\GitHub\\\\Urban_Sound_Classification_GlobalAiHub_KocHolding_FinalProject\\\\converted_audio\"\n",
    "    os.makedirs(output_dir, exist_ok=True)\n",
    "    \n",
    "    # Generate a new file path for saving the image\n",
    "    base_name = os.path.splitext(os.path.basename(sound_path))[0]\n",
    "    output_file = os.path.join(output_dir, base_name + \".png\")\n",
    "    \n",
    "    fig.savefig(output_file, bbox_inches='tight', pad_inches=0.0)\n",
    "    plt.close(fig)\n",
    "  \n",
    "     "
   ]
  },
  {
   "cell_type": "code",
   "execution_count": 219,
   "metadata": {},
   "outputs": [
    {
     "data": {
      "image/png": "[encoded data removed]",
      "text/plain": [
       "<Figure size 640x480 with 1 Axes>"
      ]
     },
     "metadata": {},
     "output_type": "display_data"
    }
   ],
   "source": [
    "save_sound_wave(create_by_specific_index_example_data_path(10)[0])"
   ]
  },
  {
   "cell_type": "markdown",
   "metadata": {},
   "source": [
    "## Creating Path of Sound Lists"
   ]
  },
  {
   "cell_type": "code",
   "execution_count": 197,
   "metadata": {},
   "outputs": [
    {
     "name": "stderr",
     "output_type": "stream",
     "text": [
      "8732it [00:00, 11212.51it/s]\n"
     ]
    }
   ],
   "source": [
    "all_audio_sounds_path=[]\n",
    "all_audio_sounds_label=[]\n",
    "for index,row in tqdm(df.iterrows()):\n",
    "    path,classId=create_by_specific_index_example_data_path(index)\n",
    "    all_audio_sounds_path.append(path)\n",
    "    all_audio_sounds_label.append(classId)"
   ]
  },
  {
   "cell_type": "code",
   "execution_count": 200,
   "metadata": {},
   "outputs": [
    {
     "data": {
      "text/plain": [
       "['C:\\\\Users\\\\MSI\\\\Desktop\\\\urban_sound_dataset\\\\UrbanSound8K\\\\audio\\\\fold5\\\\100032-3-0-0.wav',\n",
       " 'C:\\\\Users\\\\MSI\\\\Desktop\\\\urban_sound_dataset\\\\UrbanSound8K\\\\audio\\\\fold5\\\\100263-2-0-117.wav',\n",
       " 'C:\\\\Users\\\\MSI\\\\Desktop\\\\urban_sound_dataset\\\\UrbanSound8K\\\\audio\\\\fold5\\\\100263-2-0-121.wav',\n",
       " 'C:\\\\Users\\\\MSI\\\\Desktop\\\\urban_sound_dataset\\\\UrbanSound8K\\\\audio\\\\fold5\\\\100263-2-0-126.wav',\n",
       " 'C:\\\\Users\\\\MSI\\\\Desktop\\\\urban_sound_dataset\\\\UrbanSound8K\\\\audio\\\\fold5\\\\100263-2-0-137.wav']"
      ]
     },
     "execution_count": 200,
     "metadata": {},
     "output_type": "execute_result"
    }
   ],
   "source": [
    "all_audio_sounds_path[0:5]"
   ]
  },
  {
   "cell_type": "code",
   "execution_count": 220,
   "metadata": {},
   "outputs": [
    {
     "data": {
      "text/plain": [
       "[3, 2, 2, 2, 2]"
      ]
     },
     "execution_count": 220,
     "metadata": {},
     "output_type": "execute_result"
    }
   ],
   "source": [
    "all_audio_sounds_label[0:5]"
   ]
  },
  {
   "cell_type": "markdown",
   "metadata": {},
   "source": [
    "## Convert All Of The Sound Files into Spectogram Images"
   ]
  },
  {
   "cell_type": "code",
   "execution_count": 221,
   "metadata": {},
   "outputs": [
    {
     "name": "stderr",
     "output_type": "stream",
     "text": [
      "Processing audio files:  41%|████      | 3554/8732 [02:45<06:30, 13.25it/s]c:\\Users\\MSI\\anaconda3\\envs\\urban_sound\\lib\\site-packages\\librosa\\core\\spectrum.py:266: UserWarning: n_fft=2048 is too large for input signal of length=1323\n",
      "  warnings.warn(\n",
      "Processing audio files:  95%|█████████▌| 8325/8732 [07:08<00:15, 25.66it/s]c:\\Users\\MSI\\anaconda3\\envs\\urban_sound\\lib\\site-packages\\librosa\\core\\spectrum.py:266: UserWarning: n_fft=2048 is too large for input signal of length=1103\n",
      "  warnings.warn(\n",
      "Processing audio files:  95%|█████████▌| 8329/8732 [07:08<00:14, 28.17it/s]c:\\Users\\MSI\\anaconda3\\envs\\urban_sound\\lib\\site-packages\\librosa\\core\\spectrum.py:266: UserWarning: n_fft=2048 is too large for input signal of length=1523\n",
      "  warnings.warn(\n",
      "Processing audio files: 100%|██████████| 8732/8732 [07:26<00:00, 19.57it/s]\n"
     ]
    },
    {
     "data": {
      "image/png": "[encoded data removed]",
      "text/plain": [
       "<Figure size 640x480 with 1 Axes>"
      ]
     },
     "metadata": {},
     "output_type": "display_data"
    }
   ],
   "source": [
    "for audio_path in tqdm(all_audio_sounds_path, desc=\"Processing audio files\"):\n",
    "    save_sound_wave(audio_path)"
   ]
  },
  {
   "cell_type": "code",
   "execution_count": 27,
   "metadata": {},
   "outputs": [],
   "source": [
    "list_of_spec_images=os.listdir('converted_audio')"
   ]
  },
  {
   "cell_type": "code",
   "execution_count": 28,
   "metadata": {},
   "outputs": [],
   "source": [
    "list_of_spec_images=[CONVERTED_SOUND_IMAGES_PATH+\"\\\\\"+path for path in list_of_spec_images]"
   ]
  },
  {
   "cell_type": "code",
   "execution_count": 29,
   "metadata": {},
   "outputs": [],
   "source": [
    "labels=[int(path.split(\"-\")[1]) for path in list_of_spec_images]"
   ]
  },
  {
   "cell_type": "code",
   "execution_count": 30,
   "metadata": {},
   "outputs": [
    {
     "data": {
      "text/plain": [
       "['C:\\\\Users\\\\MSI\\\\Documents\\\\GitHub\\\\Urban_Sound_Classification_GlobalAiHub_KocHolding_FinalProject\\\\converted_audio\\\\100032-3-0-0.png',\n",
       " 'C:\\\\Users\\\\MSI\\\\Documents\\\\GitHub\\\\Urban_Sound_Classification_GlobalAiHub_KocHolding_FinalProject\\\\converted_audio\\\\100263-2-0-117.png',\n",
       " 'C:\\\\Users\\\\MSI\\\\Documents\\\\GitHub\\\\Urban_Sound_Classification_GlobalAiHub_KocHolding_FinalProject\\\\converted_audio\\\\100263-2-0-121.png',\n",
       " 'C:\\\\Users\\\\MSI\\\\Documents\\\\GitHub\\\\Urban_Sound_Classification_GlobalAiHub_KocHolding_FinalProject\\\\converted_audio\\\\100263-2-0-126.png',\n",
       " 'C:\\\\Users\\\\MSI\\\\Documents\\\\GitHub\\\\Urban_Sound_Classification_GlobalAiHub_KocHolding_FinalProject\\\\converted_audio\\\\100263-2-0-137.png']"
      ]
     },
     "execution_count": 30,
     "metadata": {},
     "output_type": "execute_result"
    }
   ],
   "source": [
    "list_of_spec_images[0:5]"
   ]
  },
  {
   "cell_type": "code",
   "execution_count": 31,
   "metadata": {},
   "outputs": [
    {
     "data": {
      "text/plain": [
       "[3, 2, 2, 2, 2]"
      ]
     },
     "execution_count": 31,
     "metadata": {},
     "output_type": "execute_result"
    }
   ],
   "source": [
    "labels[0:5]"
   ]
  },
  {
   "cell_type": "markdown",
   "metadata": {},
   "source": [
    "## Preprocess Images"
   ]
  },
  {
   "cell_type": "code",
   "execution_count": null,
   "metadata": {},
   "outputs": [],
   "source": [
    "def preprocessing(image_path:str):\n",
    "    # Read Image\n",
    "    # Convert into grayscale format\n",
    "    # Normalize it\n",
    "    image=cv2.imread(image_path)\n",
    "    image=cv2.cvtColor(image,cv2.COLOR_BGR2GRAY)\n",
    "    image=image/255\n",
    "    return image    \n",
    "    "
   ]
  }
 ],
 "metadata": {
  "kernelspec": {
   "display_name": "urban_sound",
   "language": "python",
   "name": "python3"
  },
  "language_info": {
   "codemirror_mode": {
    "name": "ipython",
    "version": 3
   },
   "file_extension": ".py",
   "mimetype": "text/x-python",
   "name": "python",
   "nbconvert_exporter": "python",
   "pygments_lexer": "ipython3",
   "version": "3.9.19"
  }
 },
 "nbformat": 4,
 "nbformat_minor": 2
}
