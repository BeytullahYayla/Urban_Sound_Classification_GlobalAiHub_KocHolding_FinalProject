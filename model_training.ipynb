{
  "cells": [
    {
      "cell_type": "markdown",
      "source": [
        "# Importing Required Libraries"
      ],
      "metadata": {
        "id": "phgXSMAO6F8s"
      },
      "id": "phgXSMAO6F8s"
    },
    {
      "cell_type": "code",
      "execution_count": 1,
      "id": "39a20d53",
      "metadata": {
        "id": "39a20d53"
      },
      "outputs": [],
      "source": [
        "import tensorflow as tf\n",
        "from tensorflow.keras import initializers\n",
        "import matplotlib.pyplot as plt\n",
        "import pickle"
      ]
    },
    {
      "cell_type": "code",
      "source": [
        "from google.colab import drive\n",
        "drive.mount('/content/drive')"
      ],
      "metadata": {
        "colab": {
          "base_uri": "https://localhost:8080/"
        },
        "id": "Wkm2pyKoj0ml",
        "outputId": "d8026c59-64c3-43ed-dc44-c4bd7ccb71fc"
      },
      "id": "Wkm2pyKoj0ml",
      "execution_count": 2,
      "outputs": [
        {
          "output_type": "stream",
          "name": "stdout",
          "text": [
            "Mounted at /content/drive\n"
          ]
        }
      ]
    },
    {
      "cell_type": "code",
      "source": [
        "!pip install unrar\n",
        "!unrar x /content/drive/MyDrive/dataset.rar"
      ],
      "metadata": {
        "colab": {
          "base_uri": "https://localhost:8080/"
        },
        "id": "RrxJe8n9kPhc",
        "outputId": "b52fb2ab-5d40-487a-db6e-f2c053cf055d"
      },
      "id": "RrxJe8n9kPhc",
      "execution_count": 5,
      "outputs": [
        {
          "output_type": "stream",
          "name": "stdout",
          "text": [
            "Looking in indexes: https://pypi.org/simple, https://us-python.pkg.dev/colab-wheels/public/simple/\n",
            "Collecting unrar\n",
            "  Downloading unrar-0.4-py3-none-any.whl (25 kB)\n",
            "Installing collected packages: unrar\n",
            "Successfully installed unrar-0.4\n",
            "\n",
            "UNRAR 5.50 freeware      Copyright (c) 1993-2017 Alexander Roshal\n",
            "\n",
            "\n",
            "Extracting from /content/drive/MyDrive/dataset.rar\n",
            "\n",
            "Extracting  dataset.pickle                                               \b\b\b\b  3%\b\b\b\b  7%\b\b\b\b 11%\b\b\b\b 15%\b\b\b\b 19%\b\b\b\b 23%\b\b\b\b 27%\b\b\b\b 31%\b\b\b\b 35%\b\b\b\b 39%\b\b\b\b 43%\b\b\b\b 47%\b\b\b\b 51%\b\b\b\b 55%\b\b\b\b 59%\b\b\b\b 62%\b\b\b\b 66%\b\b\b\b 70%\b\b\b\b 74%\b\b\b\b 78%\b\b\b\b 82%\b\b\b\b 86%\b\b\b\b 90%\b\b\b\b 94%\b\b\b\b 98%\b\b\b\b 99%\b\b\b\b\b  OK \n",
            "All OK\n"
          ]
        }
      ]
    },
    {
      "cell_type": "code",
      "execution_count": 6,
      "id": "49b52fd1",
      "metadata": {
        "id": "49b52fd1"
      },
      "outputs": [],
      "source": [
        "f=open(\"dataset.pickle\", \"rb\")\n",
        "(X_train, y_train, X_val, y_val, X_test, y_test)=pickle.load(f)"
      ]
    },
    {
      "cell_type": "markdown",
      "source": [
        "## Hyperparameter Optimization"
      ],
      "metadata": {
        "id": "F6dKpiGW5YdF"
      },
      "id": "F6dKpiGW5YdF"
    },
    {
      "cell_type": "code",
      "execution_count": null,
      "id": "f0f36365",
      "metadata": {
        "id": "f0f36365"
      },
      "outputs": [],
      "source": [
        "\n",
        "# Model\n",
        "\n",
        "number_of_node=[32,64,128,256]\n",
        "number_of_dense_layers=[2,3,4,5]\n",
        "for node in number_of_node:\n",
        "  for d_layer in number_of_dense_layers:\n",
        "    model = tf.keras.Sequential()\n",
        "\n",
        "    # Feature Extraction\n",
        "    model.add(tf.keras.layers.Conv2D(32, kernel_size=(3,3), strides=(2,2), padding=\"same\", input_shape=(128, 128, 1)))\n",
        "    model.add(tf.keras.layers.MaxPool2D(pool_size=(2,2), strides=(2,2)))\n",
        "\n",
        "    model.add(tf.keras.layers.Conv2D(32, kernel_size=(3,3), strides=(2,2), padding=\"same\", activation=\"relu\"))\n",
        "    model.add(tf.keras.layers.MaxPool2D(pool_size=(2,2), strides=(2,2)))\n",
        "    model.add(tf.keras.layers.Conv2D(32, kernel_size=(3,3), strides=(2,2), padding=\"same\", activation=\"relu\"))\n",
        "    model.add(tf.keras.layers.MaxPool2D(pool_size=(2,2), strides=(2,2)))\n",
        "\n",
        "    # Flatten\n",
        "    model.add(tf.keras.layers.Flatten())\n",
        "\n",
        "    # Classification\n",
        "    for i in range(d_layer):\n",
        "\n",
        "      model.add(tf.keras.layers.Dense(node, activation=\"relu\"))\n",
        "      model.add(tf.keras.layers.Dropout(0.5))\n",
        "      \n",
        "\n",
        "    # Output Layer\n",
        "    model.add(tf.keras.layers.Dense(10, activation=\"softmax\"))\n",
        "\n",
        "    model.compile(optimizer=\"adam\",\n",
        "             loss=\"sparse_categorical_crossentropy\",\n",
        "                metrics=['accuracy'])\n",
        "    \n",
        "    results=model.fit(X_train, y_train,\n",
        "                 epochs=50,\n",
        "                 validation_data=(X_val, y_val))\n",
        "    \n",
        "    model.evaluate(X_test,y_test)"
      ]
    },
    {
      "cell_type": "code",
      "source": [
        "model2 = tf.keras.Sequential()\n",
        "\n",
        "    # Feature Extraction\n",
        "model2.add(tf.keras.layers.Conv2D(64, kernel_size=(3,3), strides=(2,2), padding=\"same\", input_shape=(128, 128, 1)))\n",
        "model2.add(tf.keras.layers.MaxPool2D(pool_size=(2,2), strides=(2,2)))\n",
        "model2.add(tf.keras.layers.Conv2D(64, kernel_size=(3,3), strides=(2,2), padding=\"same\", activation=\"relu\"))\n",
        "model2.add(tf.keras.layers.MaxPool2D(pool_size=(2,2), strides=(2,2)))\n",
        "model2.add(tf.keras.layers.Conv2D(64, kernel_size=(3,3), strides=(2,2), padding=\"same\", activation=\"relu\"))\n",
        "model2.add(tf.keras.layers.MaxPool2D(pool_size=(2,2), strides=(2,2)))\n",
        "\n",
        "    # Flatten\n",
        "model2.add(tf.keras.layers.Flatten())\n",
        "model2.add(tf.keras.layers.Dense(128, activation=\"relu\"))\n",
        "model2.add(tf.keras.layers.Dropout(0.5))\n",
        "model2.add(tf.keras.layers.Dense(128, activation=\"relu\"))\n",
        "model2.add(tf.keras.layers.Dropout(0.5))\n",
        "  \n",
        "\n",
        "    # Output Layer\n",
        "model2.add(tf.keras.layers.Dense(10, activation=\"softmax\"))"
      ],
      "metadata": {
        "id": "SCMDhuhRyF_1"
      },
      "id": "SCMDhuhRyF_1",
      "execution_count": 147,
      "outputs": []
    },
    {
      "cell_type": "code",
      "source": [
        "model2.compile(optimizer=\"adam\",\n",
        "             loss=\"sparse_categorical_crossentropy\",\n",
        "                metrics=['accuracy'])\n",
        "    \n",
        "results=model2.fit(X_train, y_train,\n",
        "                 epochs=40,\n",
        "                  batch_size=128,\n",
        "                 validation_data=(X_val, y_val))"
      ],
      "metadata": {
        "colab": {
          "base_uri": "https://localhost:8080/"
        },
        "id": "BTnlL1V2yyiu",
        "outputId": "051705ec-e00a-4f2b-a3a9-e62e1b1138ec"
      },
      "id": "BTnlL1V2yyiu",
      "execution_count": 148,
      "outputs": [
        {
          "output_type": "stream",
          "name": "stdout",
          "text": [
            "Epoch 1/40\n",
            "55/55 [==============================] - 2s 27ms/step - loss: 2.0796 - accuracy: 0.2265 - val_loss: 1.6919 - val_accuracy: 0.3895\n",
            "Epoch 2/40\n",
            "55/55 [==============================] - 1s 21ms/step - loss: 1.6663 - accuracy: 0.3917 - val_loss: 1.3795 - val_accuracy: 0.5166\n",
            "Epoch 3/40\n",
            "55/55 [==============================] - 1s 22ms/step - loss: 1.4353 - accuracy: 0.4757 - val_loss: 1.2151 - val_accuracy: 0.5991\n",
            "Epoch 4/40\n",
            "55/55 [==============================] - 1s 21ms/step - loss: 1.2701 - accuracy: 0.5482 - val_loss: 1.0657 - val_accuracy: 0.6392\n",
            "Epoch 5/40\n",
            "55/55 [==============================] - 1s 21ms/step - loss: 1.1625 - accuracy: 0.5844 - val_loss: 0.9812 - val_accuracy: 0.6781\n",
            "Epoch 6/40\n",
            "55/55 [==============================] - 1s 21ms/step - loss: 1.0609 - accuracy: 0.6315 - val_loss: 0.8772 - val_accuracy: 0.7125\n",
            "Epoch 7/40\n",
            "55/55 [==============================] - 1s 21ms/step - loss: 0.9904 - accuracy: 0.6511 - val_loss: 0.8686 - val_accuracy: 0.7560\n",
            "Epoch 8/40\n",
            "55/55 [==============================] - 1s 22ms/step - loss: 0.8964 - accuracy: 0.6909 - val_loss: 0.8037 - val_accuracy: 0.7560\n",
            "Epoch 9/40\n",
            "55/55 [==============================] - 1s 22ms/step - loss: 0.8528 - accuracy: 0.7142 - val_loss: 0.7479 - val_accuracy: 0.7434\n",
            "Epoch 10/40\n",
            "55/55 [==============================] - 1s 21ms/step - loss: 0.7925 - accuracy: 0.7364 - val_loss: 0.7124 - val_accuracy: 0.7938\n",
            "Epoch 11/40\n",
            "55/55 [==============================] - 1s 22ms/step - loss: 0.7374 - accuracy: 0.7555 - val_loss: 0.6297 - val_accuracy: 0.8167\n",
            "Epoch 12/40\n",
            "55/55 [==============================] - 1s 21ms/step - loss: 0.6738 - accuracy: 0.7781 - val_loss: 0.7469 - val_accuracy: 0.7892\n",
            "Epoch 13/40\n",
            "55/55 [==============================] - 1s 21ms/step - loss: 0.6473 - accuracy: 0.7868 - val_loss: 0.6111 - val_accuracy: 0.8179\n",
            "Epoch 14/40\n",
            "55/55 [==============================] - 1s 21ms/step - loss: 0.6032 - accuracy: 0.8030 - val_loss: 0.5560 - val_accuracy: 0.8373\n",
            "Epoch 15/40\n",
            "55/55 [==============================] - 1s 21ms/step - loss: 0.5588 - accuracy: 0.8172 - val_loss: 0.5490 - val_accuracy: 0.8351\n",
            "Epoch 16/40\n",
            "55/55 [==============================] - 1s 23ms/step - loss: 0.5223 - accuracy: 0.8305 - val_loss: 0.6147 - val_accuracy: 0.8179\n",
            "Epoch 17/40\n",
            "55/55 [==============================] - 1s 21ms/step - loss: 0.5010 - accuracy: 0.8342 - val_loss: 0.5529 - val_accuracy: 0.8373\n",
            "Epoch 18/40\n",
            "55/55 [==============================] - 1s 21ms/step - loss: 0.4838 - accuracy: 0.8412 - val_loss: 0.4984 - val_accuracy: 0.8557\n",
            "Epoch 19/40\n",
            "55/55 [==============================] - 1s 22ms/step - loss: 0.4308 - accuracy: 0.8601 - val_loss: 0.4698 - val_accuracy: 0.8534\n",
            "Epoch 20/40\n",
            "55/55 [==============================] - 1s 22ms/step - loss: 0.4031 - accuracy: 0.8690 - val_loss: 0.5262 - val_accuracy: 0.8385\n",
            "Epoch 21/40\n",
            "55/55 [==============================] - 1s 22ms/step - loss: 0.4310 - accuracy: 0.8548 - val_loss: 0.4823 - val_accuracy: 0.8534\n",
            "Epoch 22/40\n",
            "55/55 [==============================] - 1s 22ms/step - loss: 0.3952 - accuracy: 0.8677 - val_loss: 0.4471 - val_accuracy: 0.8671\n",
            "Epoch 23/40\n",
            "55/55 [==============================] - 1s 22ms/step - loss: 0.3571 - accuracy: 0.8839 - val_loss: 0.4507 - val_accuracy: 0.8648\n",
            "Epoch 24/40\n",
            "55/55 [==============================] - 1s 22ms/step - loss: 0.3303 - accuracy: 0.8942 - val_loss: 0.5474 - val_accuracy: 0.8511\n",
            "Epoch 25/40\n",
            "55/55 [==============================] - 1s 22ms/step - loss: 0.3055 - accuracy: 0.9006 - val_loss: 0.4458 - val_accuracy: 0.8740\n",
            "Epoch 26/40\n",
            "55/55 [==============================] - 1s 22ms/step - loss: 0.3110 - accuracy: 0.8949 - val_loss: 0.5494 - val_accuracy: 0.8442\n",
            "Epoch 27/40\n",
            "55/55 [==============================] - 1s 22ms/step - loss: 0.3031 - accuracy: 0.8992 - val_loss: 0.4248 - val_accuracy: 0.8855\n",
            "Epoch 28/40\n",
            "55/55 [==============================] - 1s 21ms/step - loss: 0.2665 - accuracy: 0.9127 - val_loss: 0.4763 - val_accuracy: 0.8729\n",
            "Epoch 29/40\n",
            "55/55 [==============================] - 1s 21ms/step - loss: 0.2738 - accuracy: 0.9088 - val_loss: 0.5110 - val_accuracy: 0.8545\n",
            "Epoch 30/40\n",
            "55/55 [==============================] - 1s 22ms/step - loss: 0.2529 - accuracy: 0.9177 - val_loss: 0.4809 - val_accuracy: 0.8786\n",
            "Epoch 31/40\n",
            "55/55 [==============================] - 1s 21ms/step - loss: 0.2438 - accuracy: 0.9174 - val_loss: 0.4642 - val_accuracy: 0.8740\n",
            "Epoch 32/40\n",
            "55/55 [==============================] - 1s 21ms/step - loss: 0.2370 - accuracy: 0.9207 - val_loss: 0.4686 - val_accuracy: 0.8740\n",
            "Epoch 33/40\n",
            "55/55 [==============================] - 1s 21ms/step - loss: 0.2118 - accuracy: 0.9306 - val_loss: 0.4590 - val_accuracy: 0.8843\n",
            "Epoch 34/40\n",
            "55/55 [==============================] - 1s 21ms/step - loss: 0.2135 - accuracy: 0.9297 - val_loss: 0.4558 - val_accuracy: 0.8923\n",
            "Epoch 35/40\n",
            "55/55 [==============================] - 1s 21ms/step - loss: 0.1958 - accuracy: 0.9343 - val_loss: 0.5235 - val_accuracy: 0.8809\n",
            "Epoch 36/40\n",
            "55/55 [==============================] - 1s 21ms/step - loss: 0.1746 - accuracy: 0.9399 - val_loss: 0.5009 - val_accuracy: 0.8877\n",
            "Epoch 37/40\n",
            "55/55 [==============================] - 1s 21ms/step - loss: 0.1950 - accuracy: 0.9350 - val_loss: 0.5276 - val_accuracy: 0.8832\n",
            "Epoch 38/40\n",
            "55/55 [==============================] - 1s 21ms/step - loss: 0.1765 - accuracy: 0.9413 - val_loss: 0.5071 - val_accuracy: 0.8855\n",
            "Epoch 39/40\n",
            "55/55 [==============================] - 1s 21ms/step - loss: 0.1553 - accuracy: 0.9466 - val_loss: 0.4802 - val_accuracy: 0.8866\n",
            "Epoch 40/40\n",
            "55/55 [==============================] - 1s 21ms/step - loss: 0.1687 - accuracy: 0.9422 - val_loss: 0.4579 - val_accuracy: 0.8946\n"
          ]
        }
      ]
    },
    {
      "cell_type": "code",
      "execution_count": 149,
      "id": "5a28af49",
      "metadata": {
        "id": "5a28af49",
        "outputId": "865d2eed-4969-4e0b-e7ea-a7d0f0639a15",
        "colab": {
          "base_uri": "https://localhost:8080/",
          "height": 279
        }
      },
      "outputs": [
        {
          "output_type": "display_data",
          "data": {
            "text/plain": [
              "<Figure size 432x288 with 1 Axes>"
            ],
            "image/png": "[encoded data removed]"
          },
          "metadata": {
            "needs_background": "light"
          }
        }
      ],
      "source": [
        "plt.plot(results.history['loss'], label=\"loss\")\n",
        "# Plot the the validation loss\n",
        "plt.plot(results.history['val_loss'], label=\"val_loss\")\n",
        "\n",
        "# Name the x and y axises\n",
        "plt.xlabel(\"Epochs\")\n",
        "plt.ylabel(\"Loss\")\n",
        "# Put legend table\n",
        "plt.legend()\n",
        "# Show the plot\n",
        "plt.show()"
      ]
    },
    {
      "cell_type": "code",
      "execution_count": 150,
      "id": "893d7e6e",
      "metadata": {
        "id": "893d7e6e",
        "outputId": "a8cbf667-d385-4b97-fe6b-d928638ce385",
        "colab": {
          "base_uri": "https://localhost:8080/",
          "height": 279
        }
      },
      "outputs": [
        {
          "output_type": "display_data",
          "data": {
            "text/plain": [
              "<Figure size 432x288 with 1 Axes>"
            ],
            "image/png": "[encoded data removed]"
          },
          "metadata": {
            "needs_background": "light"
          }
        }
      ],
      "source": [
        "plt.plot(results.history['accuracy'], label=\"accuracy\")\n",
        "\n",
        "\n",
        "# Plot the the validation accuracy\n",
        "plt.plot(results.history['val_accuracy'], label=\"val_accuracy\")\n",
        "\n",
        "# Name the x and y axises\n",
        "plt.xlabel(\"Epochs\")\n",
        "plt.ylabel(\"Accuracy\")\n",
        "\n",
        "# Put legend table\n",
        "plt.legend()\n",
        "\n",
        "# Show the plot\n",
        "plt.show()"
      ]
    },
    {
      "cell_type": "code",
      "execution_count": 151,
      "id": "2d0f7679",
      "metadata": {
        "id": "2d0f7679",
        "outputId": "37ef060e-0df5-41c4-fc1c-e2e437c8d419",
        "colab": {
          "base_uri": "https://localhost:8080/"
        }
      },
      "outputs": [
        {
          "output_type": "stream",
          "name": "stdout",
          "text": [
            "28/28 [==============================] - 0s 5ms/step - loss: 0.4571 - accuracy: 0.9039\n"
          ]
        },
        {
          "output_type": "execute_result",
          "data": {
            "text/plain": [
              "[0.4570925235748291, 0.9038901329040527]"
            ]
          },
          "metadata": {},
          "execution_count": 151
        }
      ],
      "source": [
        "model2.evaluate(X_test, y_test)"
      ]
    },
    {
      "cell_type": "code",
      "execution_count": null,
      "id": "e192aef7",
      "metadata": {
        "id": "e192aef7"
      },
      "outputs": [],
      "source": []
    }
  ],
  "metadata": {
    "kernelspec": {
      "display_name": "Python 3 (ipykernel)",
      "language": "python",
      "name": "python3"
    },
    "language_info": {
      "codemirror_mode": {
        "name": "ipython",
        "version": 3
      },
      "file_extension": ".py",
      "mimetype": "text/x-python",
      "name": "python",
      "nbconvert_exporter": "python",
      "pygments_lexer": "ipython3",
      "version": "3.10.6"
    },
    "colab": {
      "provenance": [],
      "collapsed_sections": []
    },
    "accelerator": "GPU"
  },
  "nbformat": 4,
  "nbformat_minor": 5
}